{
  "nbformat": 4,
  "nbformat_minor": 0,
  "metadata": {
    "colab": {
      "provenance": [],
      "authorship_tag": "ABX9TyOGCXOAGQK4BbuvoKJHPlYP",
      "include_colab_link": true
    },
    "kernelspec": {
      "name": "python3",
      "display_name": "Python 3"
    },
    "language_info": {
      "name": "python"
    }
  },
  "cells": [
    {
      "cell_type": "markdown",
      "metadata": {
        "id": "view-in-github",
        "colab_type": "text"
      },
      "source": [
        "<a href=\"https://colab.research.google.com/github/luluatina/praktikum-strukdat4-queue/blob/main/Strukdat4.ipynb\" target=\"_parent\"><img src=\"https://colab.research.google.com/assets/colab-badge.svg\" alt=\"Open In Colab\"/></a>"
      ]
    },
    {
      "cell_type": "code",
      "execution_count": null,
      "metadata": {
        "colab": {
          "base_uri": "https://localhost:8080/"
        },
        "id": "GmQPP7J8mHhI",
        "outputId": "58c953e3-a3db-46b2-c450-7e413f8a1c48"
      },
      "outputs": [
        {
          "output_type": "stream",
          "name": "stdout",
          "text": [
            "Queue setelah enqueue: [10, 20, 30]\n",
            "Dequeued element: 10\n",
            "Front element: 20\n",
            "Rear element: 30\n",
            "Queue size: 2\n"
          ]
        }
      ],
      "source": [
        "# Implementasi Queue dengan List\n",
        "class QueueList:\n",
        "    def __init__(self):\n",
        "        self.queue = []\n",
        "    def enqueue(self, item):\n",
        "       self.queue.append(item)\n",
        "    def dequeue(self):\n",
        "        if not self.is_empty():\n",
        "            return self.queue.pop(0)\n",
        "        return None\n",
        "    def front(self):\n",
        "        return self.queue[0] if not self.is_empty() else None\n",
        "    def rear(self):\n",
        "        return self.queue[-1] if not self.is_empty() else None\n",
        "    def is_empty(self):\n",
        "        return len(self.queue) == 0\n",
        "    def size(self):\n",
        "        return len(self.queue)\n",
        "\n",
        "# Contoh penggunaan\n",
        "queue = QueueList()\n",
        "queue.enqueue(10)\n",
        "queue.enqueue(20)\n",
        "queue.enqueue(30)\n",
        "print(\"Queue setelah enqueue:\", queue.queue)\n",
        "print(\"Dequeued element:\", queue.dequeue())\n",
        "print(\"Front element:\", queue.front())\n",
        "print(\"Rear element:\", queue.rear())\n",
        "print(\"Queue size:\", queue.size())"
      ]
    },
    {
      "cell_type": "code",
      "source": [
        "from collections import deque\n",
        "\n",
        "# Implementasi Queue menggunakan deque\n",
        "class QueueDeque:\n",
        "    def __init__ (self):\n",
        "        self.queue = deque ()\n",
        "    def enqueue (self, item):\n",
        "        self.queue.append (item)\n",
        "    def dequeue (self):\n",
        "        return self.queue.popleft() if not self.is_empty() else None\n",
        "    def front(self):\n",
        "        return self.queue [0] if not self.is_empty() else None\n",
        "    def rear(self):\n",
        "        return self.queue[-1] if not self.is_empty() else None\n",
        "    def is_empty(self):\n",
        "        return len(self.queue) == 0\n",
        "    def size(self):\n",
        "        return len(self.queue)\n",
        "\n",
        "#Contoh penggunaan\n",
        "queue = QueueDeque ()\n",
        "queue.enqueue (10)\n",
        "queue.enqueue (20)\n",
        "queue.enqueue (30)\n",
        "print(\"Queue setelah enqueue:\", list(queue.queue))\n",
        "print (\"Dequeued element:\", queue.dequeue ())\n",
        "print(\"Front element:\", queue.front())\n",
        "print(\"Rear element:\", queue.rear() )\n",
        "print(\"Queue size:\", queue.size())\n"
      ],
      "metadata": {
        "colab": {
          "base_uri": "https://localhost:8080/"
        },
        "id": "8_RGPopuper2",
        "outputId": "534309a1-fd16-4b13-9cb3-60a6130d54a9"
      },
      "execution_count": null,
      "outputs": [
        {
          "output_type": "stream",
          "name": "stdout",
          "text": [
            "Queue setelah enqueue: [10, 20, 30]\n",
            "Dequeued element: 10\n",
            "Front element: 20\n",
            "Rear element: 30\n",
            "Queue size: 2\n"
          ]
        }
      ]
    },
    {
      "cell_type": "code",
      "source": [
        "# Implementasi Queue dengan queue.Queue\n",
        "from queue import Queue\n",
        "queue = Queue()\n",
        "\n",
        "queue.put(10)\n",
        "queue.put(20)\n",
        "queue.put(30)\n",
        "\n",
        "print(\"Queue size:\", queue.qsize())\n",
        "print(\"Dequeued element:\", queue.get())\n",
        "print(\"Queue size setelah dequeue:\", queue.qsize())"
      ],
      "metadata": {
        "colab": {
          "base_uri": "https://localhost:8080/"
        },
        "id": "jc-YhyryqnIu",
        "outputId": "92f89a4b-6c69-4746-f18a-f02e49142013"
      },
      "execution_count": null,
      "outputs": [
        {
          "output_type": "stream",
          "name": "stdout",
          "text": [
            "Queue size: 3\n",
            "Dequeued element: 10\n",
            "Queue size setelah dequeue: 2\n"
          ]
        }
      ]
    },
    {
      "cell_type": "code",
      "source": [
        "# Implementasi Queue dengan Linked List\n",
        "class Node:\n",
        "    def __init__(self, data):\n",
        "        self.data = data\n",
        "        self.next = None\n",
        "\n",
        "class QueueLinkedList:\n",
        "    def __init__(self):\n",
        "        self.front = self.rear = None\n",
        "\n",
        "    def enqueue(self, data):\n",
        "        new_node = Node(data)\n",
        "        if self.rear is None:\n",
        "            self.front = self.rear = new_node\n",
        "            return\n",
        "        self.rear.next = new_node\n",
        "        self.rear = new_node\n",
        "\n",
        "    def dequeue(self):\n",
        "        if self.front is None:\n",
        "            return None\n",
        "        dequeued_element = self.front.data\n",
        "        self.front = self.front.next\n",
        "        if self.front is None:\n",
        "            self.rear = None\n",
        "        return dequeued_element\n",
        "\n",
        "    def is_empty(self):\n",
        "        return self.front is None\n",
        "\n",
        "    def front_element(self):\n",
        "        return self.front.data if self.front else None\n",
        "\n",
        "    def rear_element(self):\n",
        "        return self.rear.data if self.rear else None\n",
        "\n",
        "# Contoh penggunaan\n",
        "queue = QueueLinkedList()\n",
        "queue.enqueue(10)\n",
        "queue.enqueue(20)\n",
        "queue.enqueue(30)\n",
        "print(\"Dequeued element:\", queue.dequeue())\n",
        "print(\"Front element:\", queue.front_element())\n",
        "print(\"Rear element:\", queue.rear_element())"
      ],
      "metadata": {
        "colab": {
          "base_uri": "https://localhost:8080/"
        },
        "id": "jcpuzmwdrJgN",
        "outputId": "d3d15b5e-8227-4969-bd2b-004266f4d0a0"
      },
      "execution_count": null,
      "outputs": [
        {
          "output_type": "stream",
          "name": "stdout",
          "text": [
            "Dequeued element: 10\n",
            "Front element: 20\n",
            "Rear element: 30\n"
          ]
        }
      ]
    },
    {
      "cell_type": "code",
      "source": [
        "#Latihan 1: Antrian Pemesanan Tiket Bioskop\n",
        "\n",
        "class TicketQueue:\n",
        "    def __init__(self, capacity=10):\n",
        "        self.queue = []\n",
        "        self.capacity = capacity\n",
        "\n",
        "    def enqueue(self, ticket_id):\n",
        "        if '7' in ticket_id:  # VIP Customer langsung mendapatkan tiket\n",
        "            print(f\"VIP Customer {ticket_id} mendapatkan kursi langsung!\")\n",
        "        elif len(self.queue) < self.capacity:\n",
        "            self.queue.append(ticket_id)\n",
        "            print(f\"{ticket_id} telah ditambahkan ke antrian.\")\n",
        "        else:\n",
        "            print(\"Antrian penuh, harap tunggu hingga ada slot kosong.\")\n",
        "\n",
        "    def dequeue(self):\n",
        "        if self.is_empty():\n",
        "            print(\"Antrian kosong, tidak ada pelanggan untuk dilayani.\")\n",
        "        else:\n",
        "            served = self.queue.pop(0)\n",
        "            print(f\"Pelanggan {served} telah dilayani.\")\n",
        "\n",
        "    def front(self):\n",
        "        if self.is_empty():\n",
        "            print(\"Antrian kosong.\")\n",
        "        else:\n",
        "            print(f\"Pelanggan pertama dalam antrian: {self.queue[0]}\")\n",
        "\n",
        "    def rear(self):\n",
        "        if self.is_empty():\n",
        "            print(\"Antrian kosong.\")\n",
        "        else:\n",
        "            print(f\"Pelanggan terakhir dalam antrian: {self.queue[-1]}\")\n",
        "\n",
        "    def is_empty(self):\n",
        "        return len(self.queue) == 0\n",
        "\n",
        "    def size(self):\n",
        "        return len(self.queue)\n",
        "\n",
        "# Contoh Penggunaan\n",
        "queue = TicketQueue()\n",
        "queue.enqueue(\"AB12\")\n",
        "queue.enqueue(\"CD34\")\n",
        "queue.enqueue(\"EF37\")  # VIP Customer\n",
        "queue.front()\n",
        "queue.rear()\n",
        "queue.dequeue()\n",
        "queue.size()\n"
      ],
      "metadata": {
        "colab": {
          "base_uri": "https://localhost:8080/"
        },
        "id": "g7bXcCnwMqSq",
        "outputId": "810c7889-841d-45fc-f29b-334230d0d5c2"
      },
      "execution_count": null,
      "outputs": [
        {
          "output_type": "stream",
          "name": "stdout",
          "text": [
            "AB12 telah ditambahkan ke antrian.\n",
            "CD34 telah ditambahkan ke antrian.\n",
            "VIP Customer EF37 mendapatkan kursi langsung!\n",
            "Pelanggan pertama dalam antrian: AB12\n",
            "Pelanggan terakhir dalam antrian: CD34\n",
            "Pelanggan AB12 telah dilayani.\n"
          ]
        },
        {
          "output_type": "execute_result",
          "data": {
            "text/plain": [
              "1"
            ]
          },
          "metadata": {},
          "execution_count": 1
        }
      ]
    },
    {
      "cell_type": "code",
      "source": [
        "#Latihan 2: Antrian Layanan Fotocopy Kampus\n",
        "\n",
        "class PhotocopyQueue:\n",
        "    def __init__(self):\n",
        "        self.queue = []\n",
        "\n",
        "    def enqueue(self, order_id, num_pages):\n",
        "        if num_pages < 10:\n",
        "            print(f\"Fast Track: Pesanan {order_id} dengan {num_pages} halaman langsung diproses!\")\n",
        "        else:\n",
        "            self.queue.append((order_id, num_pages))\n",
        "            print(f\"Pesanan {order_id} dengan {num_pages} halaman ditambahkan ke antrian.\")\n",
        "\n",
        "    def dequeue(self):\n",
        "        if self.is_empty():\n",
        "            print(\"Antrian kosong, tidak ada pesanan untuk diproses.\")\n",
        "        else:\n",
        "            order_id, num_pages = self.queue.pop(0)\n",
        "            if num_pages > 100:\n",
        "                self.queue.append((order_id, num_pages - 100))\n",
        "                print(f\"Pesanan {order_id} diproses 100 halaman, sisa {num_pages - 100} halaman masuk kembali ke antrian.\")\n",
        "            else:\n",
        "                print(f\"Pesanan {order_id} selesai diproses.\")\n",
        "\n",
        "    def front(self):\n",
        "        if self.is_empty():\n",
        "            print(\"Antrian kosong.\")\n",
        "        else:\n",
        "            print(f\"Pesanan pertama dalam antrian: {self.queue[0]}\")\n",
        "\n",
        "    def rear(self):\n",
        "        if self.is_empty():\n",
        "            print(\"Antrian kosong.\")\n",
        "        else:\n",
        "            print(f\"Pesanan terakhir dalam antrian: {self.queue[-1]}\")\n",
        "\n",
        "    def is_empty(self):\n",
        "        return len(self.queue) == 0\n",
        "\n",
        "    def size(self):\n",
        "        return len(self.queue)\n",
        "\n",
        "# Contoh Penggunaan\n",
        "queue = PhotocopyQueue()\n",
        "queue.enqueue(\"AND45\", 5)   # Fast Track\n",
        "queue.enqueue(\"BEN67\", 120)  # Proses dalam dua tahap\n",
        "queue.enqueue(\"CAR89\", 50)\n",
        "queue.front()\n",
        "queue.rear()\n",
        "queue.dequeue()\n",
        "queue.size()"
      ],
      "metadata": {
        "colab": {
          "base_uri": "https://localhost:8080/"
        },
        "id": "tfkLZYhpNQau",
        "outputId": "b630431b-fafe-4681-d48c-9a009be23f1f"
      },
      "execution_count": null,
      "outputs": [
        {
          "output_type": "stream",
          "name": "stdout",
          "text": [
            "Fast Track: Pesanan AND45 dengan 5 halaman langsung diproses!\n",
            "Pesanan BEN67 dengan 120 halaman ditambahkan ke antrian.\n",
            "Pesanan CAR89 dengan 50 halaman ditambahkan ke antrian.\n",
            "Pesanan pertama dalam antrian: ('BEN67', 120)\n",
            "Pesanan terakhir dalam antrian: ('CAR89', 50)\n",
            "Pesanan BEN67 diproses 100 halaman, sisa 20 halaman masuk kembali ke antrian.\n"
          ]
        },
        {
          "output_type": "execute_result",
          "data": {
            "text/plain": [
              "2"
            ]
          },
          "metadata": {},
          "execution_count": 2
        }
      ]
    },
    {
      "cell_type": "code",
      "source": [
        "#Latihan 3: Antrian Layanan Parkir Mall\n",
        "\n",
        "class ParkingQueue:\n",
        "    def __init__(self, capacity=15):\n",
        "        self.queue = []\n",
        "        self.capacity = capacity\n",
        "\n",
        "    def enqueue(self, vehicle_number, is_green=False):\n",
        "        if is_green:\n",
        "            self.queue.insert(0, vehicle_number)\n",
        "            print(f\"Parkir Prioritas: Kendaraan {vehicle_number} langsung masuk!\")\n",
        "        elif len(self.queue) < self.capacity:\n",
        "            self.queue.append(vehicle_number)\n",
        "            print(f\"Kendaraan {vehicle_number} masuk ke parkiran.\")\n",
        "        else:\n",
        "            print(\"Parkiran penuh, harap tunggu hingga ada slot kosong.\")\n",
        "\n",
        "    def dequeue(self):\n",
        "        if self.is_empty():\n",
        "            print(\"Parkiran kosong, tidak ada kendaraan untuk keluar.\")\n",
        "        else:\n",
        "            vehicle = self.queue.pop(0)\n",
        "            print(f\"Kendaraan {vehicle} telah keluar dari parkiran.\")\n",
        "\n",
        "    def front(self):\n",
        "        if self.is_empty():\n",
        "            print(\"Parkiran kosong.\")\n",
        "        else:\n",
        "            print(f\"Kendaraan pertama di parkiran: {self.queue[0]}\")\n",
        "\n",
        "    def rear(self):\n",
        "        if self.is_empty():\n",
        "            print(\"Parkiran kosong.\")\n",
        "        else:\n",
        "            print(f\"Kendaraan terakhir di parkiran: {self.queue[-1]}\")\n",
        "\n",
        "    def is_empty(self):\n",
        "        return len(self.queue) == 0\n",
        "\n",
        "    def size(self):\n",
        "        return len(self.queue)\n",
        "\n",
        "# Contoh Penggunaan\n",
        "parkiran = ParkingQueue()\n",
        "parkiran.enqueue(\"JK45\")  # Kendaraan biasa\n",
        "parkiran.enqueue(\"BD78\", is_green=True)  # Kendaraan listrik (prioritas)\n",
        "parkiran.enqueue(\"SB23\")\n",
        "parkiran.front()\n",
        "parkiran.rear()\n",
        "parkiran.dequeue()\n",
        "parkiran.size()"
      ],
      "metadata": {
        "colab": {
          "base_uri": "https://localhost:8080/"
        },
        "id": "keUba6A4NdF9",
        "outputId": "3ba03996-2604-48da-8cba-425c820418a5"
      },
      "execution_count": null,
      "outputs": [
        {
          "output_type": "stream",
          "name": "stdout",
          "text": [
            "Kendaraan JK45 masuk ke parkiran.\n",
            "Parkir Prioritas: Kendaraan BD78 langsung masuk!\n",
            "Kendaraan SB23 masuk ke parkiran.\n",
            "Kendaraan pertama di parkiran: BD78\n",
            "Kendaraan terakhir di parkiran: SB23\n",
            "Kendaraan BD78 telah keluar dari parkiran.\n"
          ]
        },
        {
          "output_type": "execute_result",
          "data": {
            "text/plain": [
              "2"
            ]
          },
          "metadata": {},
          "execution_count": 3
        }
      ]
    },
    {
      "cell_type": "code",
      "source": [
        "#Latihan 4: Antrian Pengambilan Sertifikat di Kampus\n",
        "\n",
        "class CertificateQueue:\n",
        "    def __init__(self):\n",
        "        self.regular_queue = []\n",
        "        self.achievers_queue = []\n",
        "\n",
        "    def enqueue(self, student_id, is_achiever=False, is_national_competitor=False):\n",
        "        if is_national_competitor:\n",
        "            print(f\"Mahasiswa {student_id} langsung mengambil sertifikat tanpa antre.\")\n",
        "        elif is_achiever:\n",
        "            self.achievers_queue.append(student_id)\n",
        "            print(f\"Mahasiswa {student_id} masuk ke jalur mahasiswa berprestasi.\")\n",
        "        else:\n",
        "            self.regular_queue.append(student_id)\n",
        "            print(f\"Mahasiswa {student_id} masuk ke jalur reguler.\")\n",
        "\n",
        "        if self.size() > 20:\n",
        "            print(\"Jumlah mahasiswa lebih dari 20, antrian dibagi menjadi dua jalur: reguler dan berprestasi.\")\n",
        "\n",
        "    def dequeue(self):\n",
        "        if not self.is_empty():\n",
        "            if self.achievers_queue:\n",
        "                student_id = self.achievers_queue.pop(0)\n",
        "                print(f\"Mahasiswa berprestasi {student_id} telah mengambil sertifikat.\")\n",
        "            else:\n",
        "                student_id = self.regular_queue.pop(0)\n",
        "                print(f\"Mahasiswa reguler {student_id} telah mengambil sertifikat.\")\n",
        "        else:\n",
        "            print(\"Antrian kosong, tidak ada mahasiswa untuk dilayani.\")\n",
        "\n",
        "    def front(self):\n",
        "        if self.is_empty():\n",
        "            print(\"Antrian kosong.\")\n",
        "        else:\n",
        "            if self.achievers_queue:\n",
        "                print(f\"Mahasiswa pertama di jalur berprestasi: {self.achievers_queue[0]}\")\n",
        "            elif self.regular_queue:\n",
        "                print(f\"Mahasiswa pertama di jalur reguler: {self.regular_queue[0]}\")\n",
        "\n",
        "    def rear(self):\n",
        "        if self.is_empty():\n",
        "            print(\"Antrian kosong.\")\n",
        "        else:\n",
        "            if self.regular_queue:\n",
        "                print(f\"Mahasiswa terakhir di jalur reguler: {self.regular_queue[-1]}\")\n",
        "            elif self.achievers_queue:\n",
        "                print(f\"Mahasiswa terakhir di jalur berprestasi: {self.achievers_queue[-1]}\")\n",
        "\n",
        "    def is_empty(self):\n",
        "        return len(self.regular_queue) == 0 and len(self.achievers_queue) == 0\n",
        "\n",
        "    def size(self):\n",
        "        return len(self.regular_queue) + len(self.achievers_queue)\n",
        "\n",
        "# Contoh Penggunaan\n",
        "queue = CertificateQueue()\n",
        "queue.enqueue(\"TI45\")  # Mahasiswa reguler\n",
        "queue.enqueue(\"SI78\", is_achiever=True)  # Mahasiswa berprestasi\n",
        "queue.enqueue(\"IF23\", is_national_competitor=True)  # Mahasiswa kompetisi nasional (langsung ambil sertifikat)\n",
        "queue.front()\n",
        "queue.rear()\n",
        "queue.dequeue()\n",
        "queue.size()"
      ],
      "metadata": {
        "colab": {
          "base_uri": "https://localhost:8080/"
        },
        "id": "ABg43NZuN42g",
        "outputId": "bee80450-2c9d-4cac-bba6-1472c1e30509"
      },
      "execution_count": null,
      "outputs": [
        {
          "output_type": "stream",
          "name": "stdout",
          "text": [
            "Mahasiswa TI45 masuk ke jalur reguler.\n",
            "Mahasiswa SI78 masuk ke jalur mahasiswa berprestasi.\n",
            "Mahasiswa IF23 langsung mengambil sertifikat tanpa antre.\n",
            "Mahasiswa pertama di jalur berprestasi: SI78\n",
            "Mahasiswa terakhir di jalur reguler: TI45\n",
            "Mahasiswa berprestasi SI78 telah mengambil sertifikat.\n"
          ]
        },
        {
          "output_type": "execute_result",
          "data": {
            "text/plain": [
              "1"
            ]
          },
          "metadata": {},
          "execution_count": 3
        }
      ]
    }
  ]
}